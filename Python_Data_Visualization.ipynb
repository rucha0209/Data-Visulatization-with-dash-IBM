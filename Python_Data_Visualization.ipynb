{
  "nbformat": 4,
  "nbformat_minor": 0,
  "metadata": {
    "kernelspec": {
      "display_name": "Python",
      "language": "python",
      "name": "conda-env-python-py"
    },
    "language_info": {
      "codemirror_mode": {
        "name": "ipython",
        "version": 3
      },
      "file_extension": ".py",
      "mimetype": "text/x-python",
      "name": "python",
      "nbconvert_exporter": "python",
      "pygments_lexer": "ipython3",
      "version": "3.6.12"
    },
    "colab": {
      "name": "Python Data Visualization.ipynb",
      "provenance": [],
      "collapsed_sections": [],
      "include_colab_link": true
    }
  },
  "cells": [
    {
      "cell_type": "markdown",
      "metadata": {
        "id": "view-in-github",
        "colab_type": "text"
      },
      "source": [
        "<a href=\"https://colab.research.google.com/github/rucha0209/Data-Visulatization-with-dash-IBM/blob/main/Python_Data_Visualization.ipynb\" target=\"_parent\"><img src=\"https://colab.research.google.com/assets/colab-badge.svg\" alt=\"Open In Colab\"/></a>"
      ]
    },
    {
      "cell_type": "markdown",
      "metadata": {
        "id": "Phha3fMhXwUv"
      },
      "source": [
        "## IBM data Visuals with Plotly"
      ]
    },
    {
      "cell_type": "code",
      "metadata": {
        "colab": {
          "base_uri": "https://localhost:8080/"
        },
        "id": "dKEBTbd9SB4K",
        "outputId": "beb83772-8658-432e-f98e-72d5b7779a0c"
      },
      "source": [
        "!pip install --upgrade plotly"
      ],
      "execution_count": null,
      "outputs": [
        {
          "output_type": "stream",
          "text": [
            "Collecting plotly\n",
            "\u001b[?25l  Downloading https://files.pythonhosted.org/packages/1f/f6/bd3c17c8003b6641df1228e80e1acac97ed8402635e46c2571f8e1ef63af/plotly-4.14.3-py2.py3-none-any.whl (13.2MB)\n",
            "\u001b[K     |████████████████████████████████| 13.2MB 261kB/s \n",
            "\u001b[?25hRequirement already satisfied, skipping upgrade: six in /usr/local/lib/python3.7/dist-packages (from plotly) (1.15.0)\n",
            "Requirement already satisfied, skipping upgrade: retrying>=1.3.3 in /usr/local/lib/python3.7/dist-packages (from plotly) (1.3.3)\n",
            "Installing collected packages: plotly\n",
            "  Found existing installation: plotly 4.4.1\n",
            "    Uninstalling plotly-4.4.1:\n",
            "      Successfully uninstalled plotly-4.4.1\n",
            "Successfully installed plotly-4.14.3\n"
          ],
          "name": "stdout"
        }
      ]
    },
    {
      "cell_type": "code",
      "metadata": {
        "colab": {
          "base_uri": "https://localhost:8080/"
        },
        "id": "qKb75Xe2SsXL",
        "outputId": "7361ad19-4d22-4434-e322-32e045a5058d"
      },
      "source": [
        "!pip install dash dash_html_components dash_core_components jupyter_dash"
      ],
      "execution_count": null,
      "outputs": [
        {
          "output_type": "stream",
          "text": [
            "Collecting dash\n",
            "\u001b[?25l  Downloading https://files.pythonhosted.org/packages/d4/50/e7c2830168db186f84b7de2988543e974433a6cdb0a0b23d51c781e2b2ab/dash-1.20.0.tar.gz (77kB)\n",
            "\u001b[K     |████████████████████████████████| 81kB 5.7MB/s \n",
            "\u001b[?25hCollecting dash_html_components\n",
            "\u001b[?25l  Downloading https://files.pythonhosted.org/packages/8f/ca/7eeca4cae4e15cc6f7d0bc41a46368dd3fcdddc72aaa5bac61a8b92d541c/dash_html_components-1.1.3.tar.gz (82kB)\n",
            "\u001b[K     |████████████████████████████████| 92kB 8.0MB/s \n",
            "\u001b[?25hCollecting dash_core_components\n",
            "\u001b[?25l  Downloading https://files.pythonhosted.org/packages/f4/79/434e14d77dbf82b27f98df077936a424de254059d47152b0445b7116e97e/dash_core_components-1.16.0.tar.gz (3.5MB)\n",
            "\u001b[K     |████████████████████████████████| 3.5MB 20.9MB/s \n",
            "\u001b[?25hCollecting jupyter_dash\n",
            "  Downloading https://files.pythonhosted.org/packages/46/21/d3893ad0b7a7061115938d6c38f5862522d45c4199fb7e8fde0765781e13/jupyter_dash-0.4.0-py3-none-any.whl\n",
            "Requirement already satisfied: Flask>=1.0.4 in /usr/local/lib/python3.7/dist-packages (from dash) (1.1.2)\n",
            "Collecting flask-compress\n",
            "  Downloading https://files.pythonhosted.org/packages/c6/d5/69b13600230d24310b98a52da561113fc01a5c17acf77152761eef3e50f1/Flask_Compress-1.9.0-py3-none-any.whl\n",
            "Requirement already satisfied: plotly in /usr/local/lib/python3.7/dist-packages (from dash) (4.14.3)\n",
            "Collecting dash_renderer==1.9.1\n",
            "\u001b[?25l  Downloading https://files.pythonhosted.org/packages/5f/d3/d661a68b4ce71498d5c0c79617bce3d5fc884d4448c698f77c2247cd1b46/dash_renderer-1.9.1.tar.gz (1.0MB)\n",
            "\u001b[K     |████████████████████████████████| 1.0MB 18.2MB/s \n",
            "\u001b[?25hCollecting dash-table==4.11.3\n",
            "\u001b[?25l  Downloading https://files.pythonhosted.org/packages/97/f7/f4969a926f20a55d3e5970d01b85ff9ad510dba32de189e72dd8f4992740/dash_table-4.11.3.tar.gz (1.8MB)\n",
            "\u001b[K     |████████████████████████████████| 1.8MB 43.0MB/s \n",
            "\u001b[?25hRequirement already satisfied: future in /usr/local/lib/python3.7/dist-packages (from dash) (0.16.0)\n",
            "Requirement already satisfied: ipython in /usr/local/lib/python3.7/dist-packages (from jupyter_dash) (5.5.0)\n",
            "Requirement already satisfied: requests in /usr/local/lib/python3.7/dist-packages (from jupyter_dash) (2.23.0)\n",
            "Requirement already satisfied: retrying in /usr/local/lib/python3.7/dist-packages (from jupyter_dash) (1.3.3)\n",
            "Requirement already satisfied: ipykernel in /usr/local/lib/python3.7/dist-packages (from jupyter_dash) (4.10.1)\n",
            "Collecting ansi2html\n",
            "  Downloading https://files.pythonhosted.org/packages/c6/85/3a46be84afbb16b392a138cd396117f438c7b2e91d8dc327621d1ae1b5dc/ansi2html-1.6.0-py3-none-any.whl\n",
            "Requirement already satisfied: itsdangerous>=0.24 in /usr/local/lib/python3.7/dist-packages (from Flask>=1.0.4->dash) (1.1.0)\n",
            "Requirement already satisfied: Werkzeug>=0.15 in /usr/local/lib/python3.7/dist-packages (from Flask>=1.0.4->dash) (1.0.1)\n",
            "Requirement already satisfied: click>=5.1 in /usr/local/lib/python3.7/dist-packages (from Flask>=1.0.4->dash) (7.1.2)\n",
            "Requirement already satisfied: Jinja2>=2.10.1 in /usr/local/lib/python3.7/dist-packages (from Flask>=1.0.4->dash) (2.11.3)\n",
            "Collecting brotli\n",
            "\u001b[?25l  Downloading https://files.pythonhosted.org/packages/15/ea/5bd575511b37bbd1c794606a0a621e6feff8e96b7dd007a86a5d218b2d94/Brotli-1.0.9-cp37-cp37m-manylinux1_x86_64.whl (357kB)\n",
            "\u001b[K     |████████████████████████████████| 358kB 42.7MB/s \n",
            "\u001b[?25hRequirement already satisfied: six in /usr/local/lib/python3.7/dist-packages (from plotly->dash) (1.15.0)\n",
            "Requirement already satisfied: pickleshare in /usr/local/lib/python3.7/dist-packages (from ipython->jupyter_dash) (0.7.5)\n",
            "Requirement already satisfied: setuptools>=18.5 in /usr/local/lib/python3.7/dist-packages (from ipython->jupyter_dash) (56.1.0)\n",
            "Requirement already satisfied: traitlets>=4.2 in /usr/local/lib/python3.7/dist-packages (from ipython->jupyter_dash) (5.0.5)\n",
            "Requirement already satisfied: pexpect; sys_platform != \"win32\" in /usr/local/lib/python3.7/dist-packages (from ipython->jupyter_dash) (4.8.0)\n",
            "Requirement already satisfied: pygments in /usr/local/lib/python3.7/dist-packages (from ipython->jupyter_dash) (2.6.1)\n",
            "Requirement already satisfied: simplegeneric>0.8 in /usr/local/lib/python3.7/dist-packages (from ipython->jupyter_dash) (0.8.1)\n",
            "Requirement already satisfied: decorator in /usr/local/lib/python3.7/dist-packages (from ipython->jupyter_dash) (4.4.2)\n",
            "Requirement already satisfied: prompt-toolkit<2.0.0,>=1.0.4 in /usr/local/lib/python3.7/dist-packages (from ipython->jupyter_dash) (1.0.18)\n",
            "Requirement already satisfied: idna<3,>=2.5 in /usr/local/lib/python3.7/dist-packages (from requests->jupyter_dash) (2.10)\n",
            "Requirement already satisfied: chardet<4,>=3.0.2 in /usr/local/lib/python3.7/dist-packages (from requests->jupyter_dash) (3.0.4)\n",
            "Requirement already satisfied: certifi>=2017.4.17 in /usr/local/lib/python3.7/dist-packages (from requests->jupyter_dash) (2020.12.5)\n",
            "Requirement already satisfied: urllib3!=1.25.0,!=1.25.1,<1.26,>=1.21.1 in /usr/local/lib/python3.7/dist-packages (from requests->jupyter_dash) (1.24.3)\n",
            "Requirement already satisfied: jupyter-client in /usr/local/lib/python3.7/dist-packages (from ipykernel->jupyter_dash) (5.3.5)\n",
            "Requirement already satisfied: tornado>=4.0 in /usr/local/lib/python3.7/dist-packages (from ipykernel->jupyter_dash) (5.1.1)\n",
            "Requirement already satisfied: MarkupSafe>=0.23 in /usr/local/lib/python3.7/dist-packages (from Jinja2>=2.10.1->Flask>=1.0.4->dash) (1.1.1)\n",
            "Requirement already satisfied: ipython-genutils in /usr/local/lib/python3.7/dist-packages (from traitlets>=4.2->ipython->jupyter_dash) (0.2.0)\n",
            "Requirement already satisfied: ptyprocess>=0.5 in /usr/local/lib/python3.7/dist-packages (from pexpect; sys_platform != \"win32\"->ipython->jupyter_dash) (0.7.0)\n",
            "Requirement already satisfied: wcwidth in /usr/local/lib/python3.7/dist-packages (from prompt-toolkit<2.0.0,>=1.0.4->ipython->jupyter_dash) (0.2.5)\n",
            "Requirement already satisfied: python-dateutil>=2.1 in /usr/local/lib/python3.7/dist-packages (from jupyter-client->ipykernel->jupyter_dash) (2.8.1)\n",
            "Requirement already satisfied: jupyter-core>=4.6.0 in /usr/local/lib/python3.7/dist-packages (from jupyter-client->ipykernel->jupyter_dash) (4.7.1)\n",
            "Requirement already satisfied: pyzmq>=13 in /usr/local/lib/python3.7/dist-packages (from jupyter-client->ipykernel->jupyter_dash) (22.0.3)\n",
            "Building wheels for collected packages: dash, dash-html-components, dash-core-components, dash-renderer, dash-table\n",
            "  Building wheel for dash (setup.py) ... \u001b[?25l\u001b[?25hdone\n",
            "  Created wheel for dash: filename=dash-1.20.0-cp37-none-any.whl size=85834 sha256=bec1718b372f48b66e355ae2bff66440718aca7aea117ab7c71509fc3be4f3ec\n",
            "  Stored in directory: /root/.cache/pip/wheels/e6/33/41/ce361d0d1da277d2350f815b10f2ab1e331592d93ef2b07e29\n",
            "  Building wheel for dash-html-components (setup.py) ... \u001b[?25l\u001b[?25hdone\n",
            "  Created wheel for dash-html-components: filename=dash_html_components-1.1.3-cp37-none-any.whl size=319471 sha256=b8c8d42b4ab0799ee422ab9b9a06710c69e631689e08b58c3133c1f7d1200954\n",
            "  Stored in directory: /root/.cache/pip/wheels/07/f9/6c/f9b73a6ae1b7f347a92dc240293cebc267b370ba2a80added2\n",
            "  Building wheel for dash-core-components (setup.py) ... \u001b[?25l\u001b[?25hdone\n",
            "  Created wheel for dash-core-components: filename=dash_core_components-1.16.0-cp37-none-any.whl size=3540993 sha256=b80299b0d120f146b685cd02f90d8278d03060a02977bc1e0248c7c16ce81734\n",
            "  Stored in directory: /root/.cache/pip/wheels/86/1e/8c/e87ebba30b73c20dcd641224274febc983af88ed0fd7712a07\n",
            "  Building wheel for dash-renderer (setup.py) ... \u001b[?25l\u001b[?25hdone\n",
            "  Created wheel for dash-renderer: filename=dash_renderer-1.9.1-cp37-none-any.whl size=1014875 sha256=11342e2ee109cb603c7d3d112106355bb97407cafb40ea46d64e5cc9c432d09e\n",
            "  Stored in directory: /root/.cache/pip/wheels/03/a9/c5/dd5815c601b0ede164c223ffd7bafebde716ca57de06ef8aec\n",
            "  Building wheel for dash-table (setup.py) ... \u001b[?25l\u001b[?25hdone\n",
            "  Created wheel for dash-table: filename=dash_table-4.11.3-cp37-none-any.whl size=1827619 sha256=8574dec022f023e7765dc0ddf023ec31bbbda565f21fa6833101e7c9c2abb73e\n",
            "  Stored in directory: /root/.cache/pip/wheels/51/9b/89/374be1bc250e28a15edbd657cf364f163e392ba5257bfd0e87\n",
            "Successfully built dash dash-html-components dash-core-components dash-renderer dash-table\n",
            "Installing collected packages: brotli, flask-compress, dash-renderer, dash-core-components, dash-html-components, dash-table, dash, ansi2html, jupyter-dash\n",
            "Successfully installed ansi2html-1.6.0 brotli-1.0.9 dash-1.20.0 dash-core-components-1.16.0 dash-html-components-1.1.3 dash-renderer-1.9.1 dash-table-4.11.3 flask-compress-1.9.0 jupyter-dash-0.4.0\n"
          ],
          "name": "stdout"
        }
      ]
    },
    {
      "cell_type": "code",
      "metadata": {
        "colab": {
          "base_uri": "https://localhost:8080/"
        },
        "id": "e8fLu5dVvf-i",
        "outputId": "90866d24-e1c5-4191-8ff5-7da595d88f48"
      },
      "source": [
        "pip install dash"
      ],
      "execution_count": null,
      "outputs": [
        {
          "output_type": "stream",
          "text": [
            "Requirement already satisfied: dash in /usr/local/lib/python3.7/dist-packages (1.20.0)\n",
            "Requirement already satisfied: dash-table==4.11.3 in /usr/local/lib/python3.7/dist-packages (from dash) (4.11.3)\n",
            "Requirement already satisfied: dash-html-components==1.1.3 in /usr/local/lib/python3.7/dist-packages (from dash) (1.1.3)\n",
            "Requirement already satisfied: future in /usr/local/lib/python3.7/dist-packages (from dash) (0.16.0)\n",
            "Requirement already satisfied: plotly in /usr/local/lib/python3.7/dist-packages (from dash) (4.14.3)\n",
            "Requirement already satisfied: dash-renderer==1.9.1 in /usr/local/lib/python3.7/dist-packages (from dash) (1.9.1)\n",
            "Requirement already satisfied: Flask>=1.0.4 in /usr/local/lib/python3.7/dist-packages (from dash) (1.1.2)\n",
            "Requirement already satisfied: flask-compress in /usr/local/lib/python3.7/dist-packages (from dash) (1.9.0)\n",
            "Requirement already satisfied: dash-core-components==1.16.0 in /usr/local/lib/python3.7/dist-packages (from dash) (1.16.0)\n",
            "Requirement already satisfied: six in /usr/local/lib/python3.7/dist-packages (from plotly->dash) (1.15.0)\n",
            "Requirement already satisfied: retrying>=1.3.3 in /usr/local/lib/python3.7/dist-packages (from plotly->dash) (1.3.3)\n",
            "Requirement already satisfied: itsdangerous>=0.24 in /usr/local/lib/python3.7/dist-packages (from Flask>=1.0.4->dash) (1.1.0)\n",
            "Requirement already satisfied: Werkzeug>=0.15 in /usr/local/lib/python3.7/dist-packages (from Flask>=1.0.4->dash) (1.0.1)\n",
            "Requirement already satisfied: click>=5.1 in /usr/local/lib/python3.7/dist-packages (from Flask>=1.0.4->dash) (7.1.2)\n",
            "Requirement already satisfied: Jinja2>=2.10.1 in /usr/local/lib/python3.7/dist-packages (from Flask>=1.0.4->dash) (2.11.3)\n",
            "Requirement already satisfied: brotli in /usr/local/lib/python3.7/dist-packages (from flask-compress->dash) (1.0.9)\n",
            "Requirement already satisfied: MarkupSafe>=0.23 in /usr/local/lib/python3.7/dist-packages (from Jinja2>=2.10.1->Flask>=1.0.4->dash) (1.1.1)\n"
          ],
          "name": "stdout"
        }
      ]
    },
    {
      "cell_type": "code",
      "metadata": {
        "colab": {
          "base_uri": "https://localhost:8080/"
        },
        "id": "pURM55ujvnj3",
        "outputId": "323cb98b-eb8a-45f0-92e9-21887c3c18d9"
      },
      "source": [
        "pip install jupyter_dash"
      ],
      "execution_count": null,
      "outputs": [
        {
          "output_type": "stream",
          "text": [
            "Requirement already satisfied: jupyter_dash in /usr/local/lib/python3.7/dist-packages (0.4.0)\n",
            "Requirement already satisfied: dash in /usr/local/lib/python3.7/dist-packages (from jupyter_dash) (1.20.0)\n",
            "Requirement already satisfied: ipykernel in /usr/local/lib/python3.7/dist-packages (from jupyter_dash) (4.10.1)\n",
            "Requirement already satisfied: flask in /usr/local/lib/python3.7/dist-packages (from jupyter_dash) (1.1.2)\n",
            "Requirement already satisfied: ansi2html in /usr/local/lib/python3.7/dist-packages (from jupyter_dash) (1.6.0)\n",
            "Requirement already satisfied: requests in /usr/local/lib/python3.7/dist-packages (from jupyter_dash) (2.23.0)\n",
            "Requirement already satisfied: retrying in /usr/local/lib/python3.7/dist-packages (from jupyter_dash) (1.3.3)\n",
            "Requirement already satisfied: ipython in /usr/local/lib/python3.7/dist-packages (from jupyter_dash) (5.5.0)\n",
            "Requirement already satisfied: dash-html-components==1.1.3 in /usr/local/lib/python3.7/dist-packages (from dash->jupyter_dash) (1.1.3)\n",
            "Requirement already satisfied: dash-renderer==1.9.1 in /usr/local/lib/python3.7/dist-packages (from dash->jupyter_dash) (1.9.1)\n",
            "Requirement already satisfied: flask-compress in /usr/local/lib/python3.7/dist-packages (from dash->jupyter_dash) (1.9.0)\n",
            "Requirement already satisfied: plotly in /usr/local/lib/python3.7/dist-packages (from dash->jupyter_dash) (4.14.3)\n",
            "Requirement already satisfied: dash-table==4.11.3 in /usr/local/lib/python3.7/dist-packages (from dash->jupyter_dash) (4.11.3)\n",
            "Requirement already satisfied: future in /usr/local/lib/python3.7/dist-packages (from dash->jupyter_dash) (0.16.0)\n",
            "Requirement already satisfied: dash-core-components==1.16.0 in /usr/local/lib/python3.7/dist-packages (from dash->jupyter_dash) (1.16.0)\n",
            "Requirement already satisfied: jupyter-client in /usr/local/lib/python3.7/dist-packages (from ipykernel->jupyter_dash) (5.3.5)\n",
            "Requirement already satisfied: tornado>=4.0 in /usr/local/lib/python3.7/dist-packages (from ipykernel->jupyter_dash) (5.1.1)\n",
            "Requirement already satisfied: traitlets>=4.1.0 in /usr/local/lib/python3.7/dist-packages (from ipykernel->jupyter_dash) (5.0.5)\n",
            "Requirement already satisfied: click>=5.1 in /usr/local/lib/python3.7/dist-packages (from flask->jupyter_dash) (7.1.2)\n",
            "Requirement already satisfied: Jinja2>=2.10.1 in /usr/local/lib/python3.7/dist-packages (from flask->jupyter_dash) (2.11.3)\n",
            "Requirement already satisfied: itsdangerous>=0.24 in /usr/local/lib/python3.7/dist-packages (from flask->jupyter_dash) (1.1.0)\n",
            "Requirement already satisfied: Werkzeug>=0.15 in /usr/local/lib/python3.7/dist-packages (from flask->jupyter_dash) (1.0.1)\n",
            "Requirement already satisfied: certifi>=2017.4.17 in /usr/local/lib/python3.7/dist-packages (from requests->jupyter_dash) (2020.12.5)\n",
            "Requirement already satisfied: idna<3,>=2.5 in /usr/local/lib/python3.7/dist-packages (from requests->jupyter_dash) (2.10)\n",
            "Requirement already satisfied: urllib3!=1.25.0,!=1.25.1,<1.26,>=1.21.1 in /usr/local/lib/python3.7/dist-packages (from requests->jupyter_dash) (1.24.3)\n",
            "Requirement already satisfied: chardet<4,>=3.0.2 in /usr/local/lib/python3.7/dist-packages (from requests->jupyter_dash) (3.0.4)\n",
            "Requirement already satisfied: six>=1.7.0 in /usr/local/lib/python3.7/dist-packages (from retrying->jupyter_dash) (1.15.0)\n",
            "Requirement already satisfied: prompt-toolkit<2.0.0,>=1.0.4 in /usr/local/lib/python3.7/dist-packages (from ipython->jupyter_dash) (1.0.18)\n",
            "Requirement already satisfied: pexpect; sys_platform != \"win32\" in /usr/local/lib/python3.7/dist-packages (from ipython->jupyter_dash) (4.8.0)\n",
            "Requirement already satisfied: pickleshare in /usr/local/lib/python3.7/dist-packages (from ipython->jupyter_dash) (0.7.5)\n",
            "Requirement already satisfied: decorator in /usr/local/lib/python3.7/dist-packages (from ipython->jupyter_dash) (4.4.2)\n",
            "Requirement already satisfied: simplegeneric>0.8 in /usr/local/lib/python3.7/dist-packages (from ipython->jupyter_dash) (0.8.1)\n",
            "Requirement already satisfied: setuptools>=18.5 in /usr/local/lib/python3.7/dist-packages (from ipython->jupyter_dash) (56.1.0)\n",
            "Requirement already satisfied: pygments in /usr/local/lib/python3.7/dist-packages (from ipython->jupyter_dash) (2.6.1)\n",
            "Requirement already satisfied: brotli in /usr/local/lib/python3.7/dist-packages (from flask-compress->dash->jupyter_dash) (1.0.9)\n",
            "Requirement already satisfied: python-dateutil>=2.1 in /usr/local/lib/python3.7/dist-packages (from jupyter-client->ipykernel->jupyter_dash) (2.8.1)\n",
            "Requirement already satisfied: jupyter-core>=4.6.0 in /usr/local/lib/python3.7/dist-packages (from jupyter-client->ipykernel->jupyter_dash) (4.7.1)\n",
            "Requirement already satisfied: pyzmq>=13 in /usr/local/lib/python3.7/dist-packages (from jupyter-client->ipykernel->jupyter_dash) (22.0.3)\n",
            "Requirement already satisfied: ipython-genutils in /usr/local/lib/python3.7/dist-packages (from traitlets>=4.1.0->ipykernel->jupyter_dash) (0.2.0)\n",
            "Requirement already satisfied: MarkupSafe>=0.23 in /usr/local/lib/python3.7/dist-packages (from Jinja2>=2.10.1->flask->jupyter_dash) (1.1.1)\n",
            "Requirement already satisfied: wcwidth in /usr/local/lib/python3.7/dist-packages (from prompt-toolkit<2.0.0,>=1.0.4->ipython->jupyter_dash) (0.2.5)\n",
            "Requirement already satisfied: ptyprocess>=0.5 in /usr/local/lib/python3.7/dist-packages (from pexpect; sys_platform != \"win32\"->ipython->jupyter_dash) (0.7.0)\n"
          ],
          "name": "stdout"
        }
      ]
    },
    {
      "cell_type": "code",
      "metadata": {
        "id": "uloQ-NKT3lvj"
      },
      "source": [
        "# line 1 ( line description for Jupyter )\n",
        "# Import required libraries\n",
        "import pandas as pd\n",
        "import dash\n",
        "import dash_html_components as html\n",
        "import dash_core_components as dcc\n",
        "from dash.dependencies import Input, Output, State\n",
        "from jupyter_dash import JupyterDash\n",
        "import plotly.graph_objects as go\n",
        "import plotly.express as px\n",
        "from dash import no_update"
      ],
      "execution_count": null,
      "outputs": []
    },
    {
      "cell_type": "code",
      "metadata": {
        "id": "aLBk7jK53lvq"
      },
      "source": [
        "# line 2\n",
        "# Create a dash application\n",
        "app = JupyterDash(__name__)\n",
        "JupyterDash.infer_jupyter_proxy_config()"
      ],
      "execution_count": null,
      "outputs": []
    },
    {
      "cell_type": "code",
      "metadata": {
        "id": "LTYPcxsu3lvt"
      },
      "source": [
        "# line 3\n",
        "#JupyterDash.infer_jupyter_proxy_config()\n"
      ],
      "execution_count": null,
      "outputs": []
    },
    {
      "cell_type": "code",
      "metadata": {
        "id": "BpAnDcSkzFef"
      },
      "source": [
        "#line 4\n",
        "# REVIEW1: Clear the layout and do not display exception till callback gets executed\n",
        "app.config.suppress_callback_exceptions = True\n"
      ],
      "execution_count": null,
      "outputs": []
    },
    {
      "cell_type": "code",
      "metadata": {
        "id": "QZfCNfvnzFOm"
      },
      "source": [
        "# Read the airline data into pandas dataframe\n",
        "airline_data =  pd.read_csv('https://cf-courses-data.s3.us.cloud-object-storage.appdomain.cloud/IBMDeveloperSkillsNetwork-DV0101EN-SkillsNetwork/Data%20Files/airline_data.csv', \n",
        "                            encoding = \"ISO-8859-1\",\n",
        "                            dtype={'Div1Airport': str, 'Div1TailNum': str, \n",
        "                                   'Div2Airport': str, 'Div2TailNum': str})\n"
      ],
      "execution_count": null,
      "outputs": []
    },
    {
      "cell_type": "code",
      "metadata": {
        "id": "umgF4a6KzFAt"
      },
      "source": [
        "# List of years \n",
        "year_list = [i for i in range(2005, 2021, 1)]\n"
      ],
      "execution_count": null,
      "outputs": []
    },
    {
      "cell_type": "code",
      "metadata": {
        "id": "FLR4sEoPzMvD",
        "colab": {
          "base_uri": "https://localhost:8080/",
          "height": 53
        },
        "outputId": "2fcabd79-b2b5-4393-d6eb-2b443f521e11"
      },
      "source": [
        "#line 5\n",
        "\"\"\"Compute graph data for creating yearly airline performance report \n",
        "Function that takes airline data as input and create 5 dataframes based on the grouping condition to be used for plottling charts and grphs.\n",
        "Argument:\n",
        "     \n",
        "    df: Filtered dataframe\n",
        "    \n",
        "Returns:\n",
        "   Dataframes to create graph. \n",
        "\"\"\""
      ],
      "execution_count": null,
      "outputs": [
        {
          "output_type": "execute_result",
          "data": {
            "application/vnd.google.colaboratory.intrinsic+json": {
              "type": "string"
            },
            "text/plain": [
              "'Compute graph data for creating yearly airline performance report \\nFunction that takes airline data as input and create 5 dataframes based on the grouping condition to be used for plottling charts and grphs.\\nArgument:\\n     \\n    df: Filtered dataframe\\n    \\nReturns:\\n   Dataframes to create graph. \\n'"
            ]
          },
          "metadata": {
            "tags": []
          },
          "execution_count": 11
        }
      ]
    },
    {
      "cell_type": "code",
      "metadata": {
        "id": "CTknbk4LzMri"
      },
      "source": [
        "def compute_data_choice_1(df):\n",
        "    # Cancellation Category Count\n",
        "    bar_data = df.groupby(['Month','CancellationCode'])['Flights'].sum().reset_index()\n",
        "    # Average flight time by reporting airline\n",
        "    line_data = df.groupby(['Month','Reporting_Airline'])['AirTime'].mean().reset_index()\n",
        "    # Diverted Airport Landings\n",
        "    div_data = df[df['DivAirportLandings'] != 0.0]\n",
        "    # Source state count\n",
        "    map_data = df.groupby(['OriginState'])['Flights'].sum().reset_index()\n",
        "    # Destination state count\n",
        "    tree_data = df.groupby(['DestState', 'Reporting_Airline'])['Flights'].sum().reset_index()\n",
        "    return bar_data, line_data, div_data, map_data, tree_data"
      ],
      "execution_count": null,
      "outputs": []
    },
    {
      "cell_type": "code",
      "metadata": {
        "id": "u4k88QXY3lvx"
      },
      "source": [
        "# line 6 \n",
        "\"\"\"Compute graph data for creating yearly airline delay report\n",
        "This function takes in airline data and selected year as an input and performs computation for creating charts and plots.\n",
        "Arguments:\n",
        "    df: Input airline data.\n",
        "    \n",
        "Returns:\n",
        "    Computed average dataframes for carrier delay, weather delay, NAS delay, security delay, and late aircraft delay.\n",
        "\"\"\"\n",
        "def compute_data_choice_2(df):\n",
        "    # Compute delay averages\n",
        "    avg_car = df.groupby(['Month','Reporting_Airline'])['CarrierDelay'].mean().reset_index()\n",
        "    avg_weather = df.groupby(['Month','Reporting_Airline'])['WeatherDelay'].mean().reset_index()\n",
        "    avg_NAS = df.groupby(['Month','Reporting_Airline'])['NASDelay'].mean().reset_index()\n",
        "    avg_sec = df.groupby(['Month','Reporting_Airline'])['SecurityDelay'].mean().reset_index()\n",
        "    avg_late = df.groupby(['Month','Reporting_Airline'])['LateAircraftDelay'].mean().reset_index()\n",
        "    return avg_car, avg_weather, avg_NAS, avg_sec, avg_late"
      ],
      "execution_count": null,
      "outputs": []
    },
    {
      "cell_type": "code",
      "metadata": {
        "id": "IQnxX7fU6D14"
      },
      "source": [
        "# line 7\n",
        "# Application layout\n",
        "app.layout = html.Div(children=[ \n",
        "                                # TODO1: Add title to the dashboard\n",
        "                                html.H1(\"US Domestic Airline Flights Performance\", style={'textAlign': 'center', 'color': '#503D36', 'font-size': 24}),\n",
        "                              \n",
        "    \n",
        "                                # REVIEW2: Dropdown creation\n",
        "                                # Create an outer division \n",
        "                                html.Div([\n",
        "                                    # Add an division\n",
        "                                    html.Div([\n",
        "                                        # Create an division for adding dropdown helper text for report type\n",
        "                                        html.Div(\n",
        "                                            [\n",
        "                                            html.H2('Report Type:', style={'margin-right': '2em'}),\n",
        "                                            ]\n",
        "                                        ),\n",
        "                                        # TODO2: Add a dropdown\n",
        "                                        dcc.Dropdown(id='input-type', \n",
        "                                                    options=[{'label': 'Yearly Airline Performance Report', 'value': 'OPT1'}, {'label': 'Yearly Airline Delay Report', 'value': 'OPT2'}], \n",
        "                                                    placeholder='Select a raport type', \n",
        "                                                    style={'width':'80%', 'padding':'3px', 'font-size': '20px', 'text-align-last' : 'center'}),\n",
        "                                        \n",
        "                                    # Place them next to each other using the division style\n",
        "                                            ],style={'display':'flex'}),\n",
        "                                    \n",
        "                                   # Add next division \n",
        "                                   html.Div([\n",
        "                                       # Create an division for adding dropdown helper text for choosing year\n",
        "                                        html.Div(\n",
        "                                            [\n",
        "                                            html.H2('Choose Year:', style={'margin-right': '2em'})\n",
        "                                            ]\n",
        "                                        ),\n",
        "                                        dcc.Dropdown(id='input-year', \n",
        "                                                     # Update dropdown values using list comphrehension\n",
        "                                                     options=[{'label': i, 'value': i} for i in year_list],\n",
        "                                                     placeholder=\"Select a year\",\n",
        "                                                     style={'width':'80%', 'padding':'3px', 'font-size': '20px', 'text-align-last' : 'center'}),\n",
        "                                            # Place them next to each other using the division style\n",
        "                                            ], style={'display': 'flex'}),  \n",
        "                                          ]),\n",
        "                                \n",
        "                                # Add Computed graphs\n",
        "                                # REVIEW3: Observe how we add an empty division and providing an id that will be updated during callback\n",
        "                                html.Div([ ], id='plot1'),\n",
        "    \n",
        "                                html.Div([\n",
        "                                        html.Div([ ], id='plot2'),\n",
        "                                        html.Div([ ], id='plot3')\n",
        "                                ], style={'display': 'flex'}),\n",
        "                                \n",
        "                                # TODO3: Add a division with two empty divisions inside. See above disvision for example.\n",
        "                                html.Div([\n",
        "                                        html.Div([ ], id='plot4'), \n",
        "                                        html.Div([ ], id='plot5')\n",
        "                                ], style={'display': 'flex'}),\n",
        "                               \n",
        "                                ])\n",
        "# Callback function definition\n",
        "# TODO4: Add 5 ouput components\n",
        "@app.callback( [Output(component_id='plot1', component_property='children'),\n",
        "                Output(component_id='plot2', component_property='children'),\n",
        "                Output(component_id='plot3', component_property='children'),\n",
        "                Output(component_id='plot4', component_property='children'),\n",
        "                Output(component_id='plot5', component_property='children')],\n",
        "               [Input(component_id='input-type', component_property='value'),\n",
        "                Input(component_id='input-year', component_property='value')],\n",
        "               # REVIEW4: Holding output state till user enters all the form information. In this case, it will be chart type and year\n",
        "               [State(\"plot1\", 'children'), State(\"plot2\", \"children\"),\n",
        "                State(\"plot3\", \"children\"), State(\"plot4\", \"children\"),\n",
        "                State(\"plot5\", \"children\")\n",
        "               ])\n",
        "\n",
        "\n",
        "# Add computation to callback function and return graph\n",
        "def get_graph(chart, year, children1, children2, c3, c4, c5):\n",
        "      \n",
        "        # Select data\n",
        "        df =  airline_data[airline_data['Year']==int(year)]\n",
        "       \n",
        "        if chart == 'OPT1':\n",
        "            # Compute required information for creating graph from the data\n",
        "            bar_data, line_data, div_data, map_data, tree_data = compute_data_choice_1(df)\n",
        "            \n",
        "            # Number of flights under different cancellation categories\n",
        "            bar_fig = px.bar(bar_data, x='Month', y='Flights', color='CancellationCode', title='Monthly Flight Cancellation')\n",
        "            \n",
        "            # TODO5: Average flight time by reporting airline\n",
        "            line_fig=px.line(line_data, x='Month', y='AirTime', color='Reporting_Airline', title='Average monthly flight time (minutes) by airline')\n",
        "            \n",
        "            \n",
        "            # Percentage of diverted airport landings per reporting airline\n",
        "            pie_fig = px.pie(div_data, values='Flights', names='Reporting_Airline', title='% of flights by reporting airline')\n",
        "            \n",
        "            # REVIEW5: Number of flights flying from each state using choropleth\n",
        "            map_fig = px.choropleth(map_data,  # Input data\n",
        "                    locations='OriginState', \n",
        "                    color='Flights',  \n",
        "                    hover_data=['OriginState', 'Flights'], \n",
        "                    locationmode = 'USA-states', # Set to plot as US States\n",
        "                    color_continuous_scale='GnBu',\n",
        "                    range_color=[0, map_data['Flights'].max()]) \n",
        "            map_fig.update_layout(\n",
        "                    title_text = 'Number of flights from origin state', \n",
        "                    geo_scope='usa') # Plot only the USA instead of globe\n",
        "            \n",
        "            # TODO6: Number of flights flying to each state from each reporting airline\n",
        "            tree_fig=px.treemap(tree_data, path=['DestState', 'Reporting_Airline'], \n",
        "                    values='Flights', \n",
        "                    color='Flights', \n",
        "                    color_continuous_scale='RdBu', \n",
        "                    title='Flight count by airline to destination state'\n",
        "                               )\n",
        "            \n",
        "            \n",
        "            \n",
        "            # REVIEW6: Return dcc.Graph component to the empty division\n",
        "            return [dcc.Graph(figure=tree_fig), \n",
        "                    dcc.Graph(figure=pie_fig),\n",
        "                    dcc.Graph(figure=map_fig),\n",
        "                    dcc.Graph(figure=bar_fig),\n",
        "                    dcc.Graph(figure=line_fig)\n",
        "                   ]\n",
        "        else:\n",
        "            # REVIEW7: This covers chart type 2 and we have completed this exercise under Flight Delay Time Statistics Dashboard section\n",
        "            # Compute required information for creating graph from the data\n",
        "            avg_car, avg_weather, avg_NAS, avg_sec, avg_late = compute_data_choice_2(df)\n",
        "            \n",
        "            # Create graph\n",
        "            carrier_fig = px.line(avg_car, x='Month', y='CarrierDelay', color='Reporting_Airline', title='Average carrrier delay time (minutes) by airline')\n",
        "            weather_fig = px.line(avg_weather, x='Month', y='WeatherDelay', color='Reporting_Airline', title='Average weather delay time (minutes) by airline')\n",
        "            nas_fig = px.line(avg_NAS, x='Month', y='NASDelay', color='Reporting_Airline', title='Average NAS delay time (minutes) by airline')\n",
        "            sec_fig = px.line(avg_sec, x='Month', y='SecurityDelay', color='Reporting_Airline', title='Average security delay time (minutes) by airline')\n",
        "            late_fig = px.line(avg_late, x='Month', y='LateAircraftDelay', color='Reporting_Airline', title='Average late aircraft delay time (minutes) by airline')\n",
        "            \n",
        "            return[dcc.Graph(figure=carrier_fig), \n",
        "                   dcc.Graph(figure=weather_fig), \n",
        "                   dcc.Graph(figure=nas_fig), \n",
        "                   dcc.Graph(figure=sec_fig), \n",
        "                   dcc.Graph(figure=late_fig)]"
      ],
      "execution_count": null,
      "outputs": []
    },
    {
      "cell_type": "code",
      "metadata": {
        "colab": {
          "base_uri": "https://localhost:8080/",
          "height": 86
        },
        "id": "8pB4f-Or3lwJ",
        "outputId": "11d0ff50-cc70-4c0b-c1ba-b240bfdc5e6b"
      },
      "source": [
        "#line 8\n",
        "# Run the app\n",
        "if __name__ == '__main__':\n",
        "    # REVIEW8: Adding dev_tools_ui=False, dev_tools_props_check=False can prevent error appearing before calling callback function\n",
        "    app.run_server(mode=\"external\", host=\"localhost\", debug=False, dev_tools_ui=False, dev_tools_props_check=False)\n",
        "\n",
        "   "
      ],
      "execution_count": null,
      "outputs": [
        {
          "output_type": "stream",
          "text": [
            " * Running on http://localhost:8050/ (Press CTRL+C to quit)\n",
            "127.0.0.1 - - [09/May/2021 18:22:20] \"\u001b[37mGET /_alive_b1797dea-6abf-432a-ae05-0fbfdf048a0d HTTP/1.1\u001b[0m\" 200 -\n"
          ],
          "name": "stderr"
        },
        {
          "output_type": "stream",
          "text": [
            "Dash app running on:\n"
          ],
          "name": "stdout"
        },
        {
          "output_type": "display_data",
          "data": {
            "application/javascript": [
              "(async (port, path, text, element) => {\n",
              "    if (!google.colab.kernel.accessAllowed) {\n",
              "      return;\n",
              "    }\n",
              "    element.appendChild(document.createTextNode(''));\n",
              "    const url = await google.colab.kernel.proxyPort(port);\n",
              "    const anchor = document.createElement('a');\n",
              "    anchor.href = url + path;\n",
              "    anchor.target = '_blank';\n",
              "    anchor.setAttribute('data-href', url + path);\n",
              "    anchor.textContent = text;\n",
              "    element.appendChild(anchor);\n",
              "  })(8050, \"/\", \"http://localhost:8050/\", window.element)"
            ],
            "text/plain": [
              "<IPython.core.display.Javascript object>"
            ]
          },
          "metadata": {
            "tags": []
          }
        }
      ]
    },
    {
      "cell_type": "code",
      "metadata": {
        "id": "SVmHU4oG3lwR"
      },
      "source": [
        ""
      ],
      "execution_count": null,
      "outputs": []
    },
    {
      "cell_type": "code",
      "metadata": {
        "id": "2AVoszv_3lwS"
      },
      "source": [
        ""
      ],
      "execution_count": null,
      "outputs": []
    },
    {
      "cell_type": "code",
      "metadata": {
        "id": "EF0RsTuY3lwT"
      },
      "source": [
        ""
      ],
      "execution_count": null,
      "outputs": []
    },
    {
      "cell_type": "code",
      "metadata": {
        "id": "lRXPK8Oo3lwT"
      },
      "source": [
        ""
      ],
      "execution_count": null,
      "outputs": []
    },
    {
      "cell_type": "code",
      "metadata": {
        "id": "mfZj40OW3lwU"
      },
      "source": [
        ""
      ],
      "execution_count": null,
      "outputs": []
    },
    {
      "cell_type": "code",
      "metadata": {
        "id": "BlQKBD033lwV"
      },
      "source": [
        ""
      ],
      "execution_count": null,
      "outputs": []
    },
    {
      "cell_type": "code",
      "metadata": {
        "id": "ydTI4lrM3lwW"
      },
      "source": [
        ""
      ],
      "execution_count": null,
      "outputs": []
    }
  ]
}